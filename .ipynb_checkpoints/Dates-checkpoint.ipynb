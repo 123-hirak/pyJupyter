{
 "cells": [
  {
   "cell_type": "markdown",
   "id": "45122eb9",
   "metadata": {},
   "source": [
    "## Time Series\n",
    "Manupulating Dates"
   ]
  },
  {
   "cell_type": "code",
   "execution_count": 40,
   "id": "afd3c178",
   "metadata": {},
   "outputs": [],
   "source": [
    "#Libraries\n",
    "import numpy as np\n",
    "import pandas as pd\n",
    "import matplotlib.pyplot as plt\n",
    "import seaborn as sns\n",
    "import datetime as dt\n",
    "import random as rm"
   ]
  },
  {
   "cell_type": "code",
   "execution_count": 2,
   "id": "8dc63fd3",
   "metadata": {},
   "outputs": [
    {
     "data": {
      "text/plain": [
       "datetime.date(2023, 3, 18)"
      ]
     },
     "execution_count": 2,
     "metadata": {},
     "output_type": "execute_result"
    }
   ],
   "source": [
    "dt.date.today()"
   ]
  },
  {
   "cell_type": "code",
   "execution_count": 4,
   "id": "8539c6ca",
   "metadata": {},
   "outputs": [
    {
     "name": "stdout",
     "output_type": "stream",
     "text": [
      "['__add__', '__class__', '__delattr__', '__dir__', '__doc__', '__eq__', '__format__', '__ge__', '__getattribute__', '__gt__', '__hash__', '__init__', '__init_subclass__', '__le__', '__lt__', '__ne__', '__new__', '__radd__', '__reduce__', '__reduce_ex__', '__repr__', '__rsub__', '__setattr__', '__sizeof__', '__str__', '__sub__', '__subclasshook__', 'ctime', 'day', 'fromisocalendar', 'fromisoformat', 'fromordinal', 'fromtimestamp', 'isocalendar', 'isoformat', 'isoweekday', 'max', 'min', 'month', 'replace', 'resolution', 'strftime', 'timetuple', 'today', 'toordinal', 'weekday', 'year']\n"
     ]
    }
   ],
   "source": [
    "print(dir(dt.date),sep ='\\t')"
   ]
  },
  {
   "cell_type": "code",
   "execution_count": 5,
   "id": "76ad3f1c",
   "metadata": {},
   "outputs": [
    {
     "data": {
      "text/plain": [
       "2023"
      ]
     },
     "execution_count": 5,
     "metadata": {},
     "output_type": "execute_result"
    }
   ],
   "source": [
    "dt.date.today().year"
   ]
  },
  {
   "cell_type": "code",
   "execution_count": 6,
   "id": "f46c1592",
   "metadata": {},
   "outputs": [
    {
     "data": {
      "text/plain": [
       "'12-12-1993'"
      ]
     },
     "execution_count": 6,
     "metadata": {},
     "output_type": "execute_result"
    }
   ],
   "source": [
    "d1 = '12-12-1993'\n",
    "d1"
   ]
  },
  {
   "cell_type": "code",
   "execution_count": 8,
   "id": "ece36379",
   "metadata": {},
   "outputs": [],
   "source": [
    "d2=dt.datetime(1993,12,12)"
   ]
  },
  {
   "cell_type": "code",
   "execution_count": 9,
   "id": "3c5838eb",
   "metadata": {},
   "outputs": [
    {
     "data": {
      "text/plain": [
       "12"
      ]
     },
     "execution_count": 9,
     "metadata": {},
     "output_type": "execute_result"
    }
   ],
   "source": [
    "d2.month\n"
   ]
  },
  {
   "cell_type": "code",
   "execution_count": 11,
   "id": "bfcffe52",
   "metadata": {},
   "outputs": [
    {
     "data": {
      "text/plain": [
       "datetime.datetime(1993, 12, 23, 0, 0)"
      ]
     },
     "execution_count": 11,
     "metadata": {},
     "output_type": "execute_result"
    }
   ],
   "source": [
    "d2+dt.timedelta(days=11)"
   ]
  },
  {
   "cell_type": "code",
   "execution_count": 14,
   "id": "de535c85",
   "metadata": {},
   "outputs": [
    {
     "data": {
      "text/plain": [
       "datetime.datetime(2023, 12, 5, 0, 0)"
      ]
     },
     "execution_count": 14,
     "metadata": {},
     "output_type": "execute_result"
    }
   ],
   "source": [
    "d2+dt.timedelta(days=30*365)"
   ]
  },
  {
   "cell_type": "code",
   "execution_count": 15,
   "id": "27c16dba",
   "metadata": {},
   "outputs": [],
   "source": [
    "from dateutil.relativedelta import relativedelta"
   ]
  },
  {
   "cell_type": "code",
   "execution_count": 18,
   "id": "a15badf1",
   "metadata": {},
   "outputs": [
    {
     "data": {
      "text/plain": [
       "datetime.datetime(2023, 12, 12, 0, 0)"
      ]
     },
     "execution_count": 18,
     "metadata": {},
     "output_type": "execute_result"
    }
   ],
   "source": [
    "d2  + relativedelta(years = 30)"
   ]
  },
  {
   "cell_type": "code",
   "execution_count": 21,
   "id": "24f31140",
   "metadata": {},
   "outputs": [
    {
     "data": {
      "text/plain": [
       "datetime.datetime(2023, 3, 18, 20, 41, 36, 35176)"
      ]
     },
     "execution_count": 21,
     "metadata": {},
     "output_type": "execute_result"
    }
   ],
   "source": [
    "dt.datetime.now()"
   ]
  },
  {
   "cell_type": "code",
   "execution_count": 23,
   "id": "7fec132c",
   "metadata": {},
   "outputs": [
    {
     "data": {
      "text/plain": [
       "'18 Mar/ 2023,Sat'"
      ]
     },
     "execution_count": 23,
     "metadata": {},
     "output_type": "execute_result"
    }
   ],
   "source": [
    "dt.datetime.today().strftime('%d %b/ %Y,%a')"
   ]
  },
  {
   "cell_type": "code",
   "execution_count": 30,
   "id": "5677ca06",
   "metadata": {},
   "outputs": [
    {
     "data": {
      "text/plain": [
       "'18 Mar/ 2023,Sat 08:51 PM '"
      ]
     },
     "execution_count": 30,
     "metadata": {},
     "output_type": "execute_result"
    }
   ],
   "source": [
    "dt.datetime.now().strftime('%d %b/ %Y,%a %I:%M %p ')"
   ]
  },
  {
   "cell_type": "code",
   "execution_count": 31,
   "id": "c8637262",
   "metadata": {},
   "outputs": [
    {
     "name": "stdout",
     "output_type": "stream",
     "text": [
      "12-12-1993 1993-12-12 00:00:00\n"
     ]
    }
   ],
   "source": [
    "print(d1,d2)"
   ]
  },
  {
   "cell_type": "code",
   "execution_count": 32,
   "id": "8760b388",
   "metadata": {},
   "outputs": [],
   "source": [
    "d3 = dt.datetime.today()"
   ]
  },
  {
   "cell_type": "code",
   "execution_count": 36,
   "id": "4300c593",
   "metadata": {},
   "outputs": [
    {
     "data": {
      "text/plain": [
       "datetime.datetime(2023, 1, 26, 0, 0)"
      ]
     },
     "execution_count": 36,
     "metadata": {},
     "output_type": "execute_result"
    }
   ],
   "source": [
    "d4=dt.datetime.strptime('2023-01-26','%Y-%m-%d')\n",
    "d4"
   ]
  },
  {
   "cell_type": "code",
   "execution_count": 39,
   "id": "727a835e",
   "metadata": {},
   "outputs": [
    {
     "data": {
      "text/plain": [
       "51"
      ]
     },
     "execution_count": 39,
     "metadata": {},
     "output_type": "execute_result"
    }
   ],
   "source": [
    "(d3-d4).days"
   ]
  },
  {
   "cell_type": "markdown",
   "id": "730b6cbd",
   "metadata": {},
   "source": [
    "## Create series of Dates"
   ]
  },
  {
   "cell_type": "code",
   "execution_count": 42,
   "id": "776a5f31",
   "metadata": {},
   "outputs": [
    {
     "data": {
      "text/plain": [
       "3"
      ]
     },
     "execution_count": 42,
     "metadata": {},
     "output_type": "execute_result"
    }
   ],
   "source": [
    "rm.randrange(1,10)"
   ]
  },
  {
   "cell_type": "code",
   "execution_count": 45,
   "id": "1ec31e7e",
   "metadata": {},
   "outputs": [
    {
     "data": {
      "text/plain": [
       "[Timestamp('2023-03-18 21:04:03.208009', freq='D'),\n",
       " Timestamp('2023-03-19 21:04:03.208009', freq='D'),\n",
       " Timestamp('2023-03-20 21:04:03.208009', freq='D'),\n",
       " Timestamp('2023-03-21 21:04:03.208009', freq='D'),\n",
       " Timestamp('2023-03-22 21:04:03.208009', freq='D'),\n",
       " Timestamp('2023-03-23 21:04:03.208009', freq='D'),\n",
       " Timestamp('2023-03-24 21:04:03.208009', freq='D'),\n",
       " Timestamp('2023-03-25 21:04:03.208009', freq='D'),\n",
       " Timestamp('2023-03-26 21:04:03.208009', freq='D'),\n",
       " Timestamp('2023-03-27 21:04:03.208009', freq='D')]"
      ]
     },
     "execution_count": 45,
     "metadata": {},
     "output_type": "execute_result"
    }
   ],
   "source": [
    "datelist = pd.date_range(dt.datetime.today(),periods=10).tolist()\n",
    "datelist"
   ]
  },
  {
   "cell_type": "code",
   "execution_count": 54,
   "id": "9933059d",
   "metadata": {},
   "outputs": [
    {
     "data": {
      "text/plain": [
       "Timestamp('2023-03-21 00:00:00', freq='D')"
      ]
     },
     "execution_count": 54,
     "metadata": {},
     "output_type": "execute_result"
    }
   ],
   "source": [
    "datelist2 = pd.date_range(start='2023-01-26',end='2023-03-21')\n",
    "#datelist2[1:5]\n",
    "datelist2[0]\n",
    "datelist2[54]"
   ]
  },
  {
   "cell_type": "code",
   "execution_count": 51,
   "id": "ef255e4d",
   "metadata": {},
   "outputs": [
    {
     "data": {
      "text/plain": [
       "55"
      ]
     },
     "execution_count": 51,
     "metadata": {},
     "output_type": "execute_result"
    }
   ],
   "source": [
    "len(datelist2)"
   ]
  },
  {
   "cell_type": "code",
   "execution_count": 61,
   "id": "7ade9d46",
   "metadata": {},
   "outputs": [
    {
     "data": {
      "text/plain": [
       "datetime.date(2023, 6, 12)"
      ]
     },
     "execution_count": 61,
     "metadata": {},
     "output_type": "execute_result"
    }
   ],
   "source": [
    "datelist3 = dt.date(2023,rm.randint(1,12),rm.randint(1,31))\n",
    "datelist3"
   ]
  },
  {
   "cell_type": "code",
   "execution_count": 63,
   "id": "209ca706",
   "metadata": {},
   "outputs": [
    {
     "data": {
      "text/plain": [
       "[datetime.date(2023, 9, 26),\n",
       " datetime.date(2023, 11, 6),\n",
       " datetime.date(2023, 4, 8),\n",
       " datetime.date(2023, 5, 24),\n",
       " datetime.date(2023, 8, 31),\n",
       " datetime.date(2023, 6, 3),\n",
       " datetime.date(2023, 11, 2),\n",
       " datetime.date(2023, 7, 13),\n",
       " datetime.date(2023, 1, 2),\n",
       " datetime.date(2023, 4, 28),\n",
       " datetime.date(2023, 8, 21),\n",
       " datetime.date(2023, 4, 1),\n",
       " datetime.date(2023, 3, 14),\n",
       " datetime.date(2023, 10, 3),\n",
       " datetime.date(2023, 10, 17),\n",
       " datetime.date(2023, 10, 12),\n",
       " datetime.date(2023, 4, 8),\n",
       " datetime.date(2023, 7, 17),\n",
       " datetime.date(2023, 12, 16),\n",
       " datetime.date(2023, 1, 13)]"
      ]
     },
     "execution_count": 63,
     "metadata": {},
     "output_type": "execute_result"
    }
   ],
   "source": [
    "datelist4 = []\n",
    "for _ in range(20):\n",
    "    date = dt.date(2023,rm.randint(1,12),rm.randint(1,31))\n",
    "    datelist4.append(date)\n",
    "datelist4    "
   ]
  },
  {
   "cell_type": "code",
   "execution_count": 67,
   "id": "cb35528e",
   "metadata": {},
   "outputs": [
    {
     "data": {
      "text/plain": [
       "'21:49'"
      ]
     },
     "execution_count": 67,
     "metadata": {},
     "output_type": "execute_result"
    }
   ],
   "source": [
    "dt5=dt.datetime.now()+dt.timedelta(minutes =30)\n",
    "dt5.strftime('%H:%M')"
   ]
  },
  {
   "cell_type": "code",
   "execution_count": null,
   "id": "384fe69c",
   "metadata": {},
   "outputs": [],
   "source": []
  }
 ],
 "metadata": {
  "kernelspec": {
   "display_name": "Python 3 (ipykernel)",
   "language": "python",
   "name": "python3"
  },
  "language_info": {
   "codemirror_mode": {
    "name": "ipython",
    "version": 3
   },
   "file_extension": ".py",
   "mimetype": "text/x-python",
   "name": "python",
   "nbconvert_exporter": "python",
   "pygments_lexer": "ipython3",
   "version": "3.9.13"
  }
 },
 "nbformat": 4,
 "nbformat_minor": 5
}
