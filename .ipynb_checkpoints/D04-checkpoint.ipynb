{
 "cells": [
  {
   "cell_type": "markdown",
   "id": "150c1ac6",
   "metadata": {},
   "source": [
    "# Linear Regression"
   ]
  },
  {
   "cell_type": "markdown",
   "id": "ff3d0a70",
   "metadata": {},
   "source": [
    "## Steps of LR\n",
    "Understand the data and the problem\n",
    "Clean Data - Missing Values, Transformation, \n",
    "Load Libraries\n",
    "Data Setup - Train/Test, \n",
    "Create Model\n",
    "View Statistics of Model\n",
    "Predict, Check RMSE, Efficiency \n",
    "Check for Assumptions\n",
    "- We are investigating a linear relationship\n",
    "- All variables follow a normal distribution\n",
    "- There is very little or no multicollinearity\n",
    "- There is little or no autocorrelation\n",
    "- Data is homoscedastic"
   ]
  },
  {
   "cell_type": "code",
   "execution_count": 3,
   "id": "fa8cb368",
   "metadata": {},
   "outputs": [],
   "source": [
    "#pip install pydataset"
   ]
  },
  {
   "cell_type": "markdown",
   "id": "c23ad2f7",
   "metadata": {},
   "source": [
    "### Method-1 : sklearn - linear_model"
   ]
  },
  {
   "cell_type": "code",
   "execution_count": 4,
   "id": "37e76dba",
   "metadata": {},
   "outputs": [
    {
     "name": "stdout",
     "output_type": "stream",
     "text": [
      "initiated datasets repo at: C:\\Users\\Hirak\\.pydataset/\n"
     ]
    }
   ],
   "source": [
    "from sklearn import linear_model as lm\n",
    "# from sklearn.linear_model import LinearRegression\n",
    "from pydataset import data\n",
    "import pandas as pd\n",
    "import numpy as np"
   ]
  },
  {
   "cell_type": "code",
   "execution_count": 5,
   "id": "da46e885",
   "metadata": {},
   "outputs": [
    {
     "data": {
      "text/html": [
       "<div>\n",
       "<style scoped>\n",
       "    .dataframe tbody tr th:only-of-type {\n",
       "        vertical-align: middle;\n",
       "    }\n",
       "\n",
       "    .dataframe tbody tr th {\n",
       "        vertical-align: top;\n",
       "    }\n",
       "\n",
       "    .dataframe thead th {\n",
       "        text-align: right;\n",
       "    }\n",
       "</style>\n",
       "<table border=\"1\" class=\"dataframe\">\n",
       "  <thead>\n",
       "    <tr style=\"text-align: right;\">\n",
       "      <th></th>\n",
       "      <th>mpg</th>\n",
       "      <th>cyl</th>\n",
       "      <th>disp</th>\n",
       "      <th>hp</th>\n",
       "      <th>drat</th>\n",
       "      <th>wt</th>\n",
       "      <th>qsec</th>\n",
       "      <th>vs</th>\n",
       "      <th>am</th>\n",
       "      <th>gear</th>\n",
       "      <th>carb</th>\n",
       "    </tr>\n",
       "  </thead>\n",
       "  <tbody>\n",
       "    <tr>\n",
       "      <th>Mazda RX4</th>\n",
       "      <td>21.0</td>\n",
       "      <td>6</td>\n",
       "      <td>160.0</td>\n",
       "      <td>110</td>\n",
       "      <td>3.90</td>\n",
       "      <td>2.620</td>\n",
       "      <td>16.46</td>\n",
       "      <td>0</td>\n",
       "      <td>1</td>\n",
       "      <td>4</td>\n",
       "      <td>4</td>\n",
       "    </tr>\n",
       "    <tr>\n",
       "      <th>Mazda RX4 Wag</th>\n",
       "      <td>21.0</td>\n",
       "      <td>6</td>\n",
       "      <td>160.0</td>\n",
       "      <td>110</td>\n",
       "      <td>3.90</td>\n",
       "      <td>2.875</td>\n",
       "      <td>17.02</td>\n",
       "      <td>0</td>\n",
       "      <td>1</td>\n",
       "      <td>4</td>\n",
       "      <td>4</td>\n",
       "    </tr>\n",
       "    <tr>\n",
       "      <th>Datsun 710</th>\n",
       "      <td>22.8</td>\n",
       "      <td>4</td>\n",
       "      <td>108.0</td>\n",
       "      <td>93</td>\n",
       "      <td>3.85</td>\n",
       "      <td>2.320</td>\n",
       "      <td>18.61</td>\n",
       "      <td>1</td>\n",
       "      <td>1</td>\n",
       "      <td>4</td>\n",
       "      <td>1</td>\n",
       "    </tr>\n",
       "    <tr>\n",
       "      <th>Hornet 4 Drive</th>\n",
       "      <td>21.4</td>\n",
       "      <td>6</td>\n",
       "      <td>258.0</td>\n",
       "      <td>110</td>\n",
       "      <td>3.08</td>\n",
       "      <td>3.215</td>\n",
       "      <td>19.44</td>\n",
       "      <td>1</td>\n",
       "      <td>0</td>\n",
       "      <td>3</td>\n",
       "      <td>1</td>\n",
       "    </tr>\n",
       "    <tr>\n",
       "      <th>Hornet Sportabout</th>\n",
       "      <td>18.7</td>\n",
       "      <td>8</td>\n",
       "      <td>360.0</td>\n",
       "      <td>175</td>\n",
       "      <td>3.15</td>\n",
       "      <td>3.440</td>\n",
       "      <td>17.02</td>\n",
       "      <td>0</td>\n",
       "      <td>0</td>\n",
       "      <td>3</td>\n",
       "      <td>2</td>\n",
       "    </tr>\n",
       "  </tbody>\n",
       "</table>\n",
       "</div>"
      ],
      "text/plain": [
       "                    mpg  cyl   disp   hp  drat     wt   qsec  vs  am  gear  \\\n",
       "Mazda RX4          21.0    6  160.0  110  3.90  2.620  16.46   0   1     4   \n",
       "Mazda RX4 Wag      21.0    6  160.0  110  3.90  2.875  17.02   0   1     4   \n",
       "Datsun 710         22.8    4  108.0   93  3.85  2.320  18.61   1   1     4   \n",
       "Hornet 4 Drive     21.4    6  258.0  110  3.08  3.215  19.44   1   0     3   \n",
       "Hornet Sportabout  18.7    8  360.0  175  3.15  3.440  17.02   0   0     3   \n",
       "\n",
       "                   carb  \n",
       "Mazda RX4             4  \n",
       "Mazda RX4 Wag         4  \n",
       "Datsun 710            1  \n",
       "Hornet 4 Drive        1  \n",
       "Hornet Sportabout     2  "
      ]
     },
     "execution_count": 5,
     "metadata": {},
     "output_type": "execute_result"
    }
   ],
   "source": [
    "df = data('mtcars')\n",
    "df.head()"
   ]
  },
  {
   "cell_type": "code",
   "execution_count": 7,
   "id": "050c4fb3",
   "metadata": {},
   "outputs": [
    {
     "name": "stdout",
     "output_type": "stream",
     "text": [
      "Index(['mpg', 'cyl', 'disp', 'hp', 'drat', 'wt', 'qsec', 'vs', 'am', 'gear',\n",
      "       'carb'],\n",
      "      dtype='object')\n",
      "(32, 11)\n",
      "             mpg        cyl        disp          hp       drat         wt  \\\n",
      "count  32.000000  32.000000   32.000000   32.000000  32.000000  32.000000   \n",
      "mean   20.090625   6.187500  230.721875  146.687500   3.596563   3.217250   \n",
      "std     6.026948   1.785922  123.938694   68.562868   0.534679   0.978457   \n",
      "min    10.400000   4.000000   71.100000   52.000000   2.760000   1.513000   \n",
      "25%    15.425000   4.000000  120.825000   96.500000   3.080000   2.581250   \n",
      "50%    19.200000   6.000000  196.300000  123.000000   3.695000   3.325000   \n",
      "75%    22.800000   8.000000  326.000000  180.000000   3.920000   3.610000   \n",
      "max    33.900000   8.000000  472.000000  335.000000   4.930000   5.424000   \n",
      "\n",
      "            qsec         vs         am       gear     carb  \n",
      "count  32.000000  32.000000  32.000000  32.000000  32.0000  \n",
      "mean   17.848750   0.437500   0.406250   3.687500   2.8125  \n",
      "std     1.786943   0.504016   0.498991   0.737804   1.6152  \n",
      "min    14.500000   0.000000   0.000000   3.000000   1.0000  \n",
      "25%    16.892500   0.000000   0.000000   3.000000   2.0000  \n",
      "50%    17.710000   0.000000   0.000000   4.000000   2.0000  \n",
      "75%    18.900000   1.000000   1.000000   4.000000   4.0000  \n",
      "max    22.900000   1.000000   1.000000   5.000000   8.0000  \n",
      "mpg     float64\n",
      "cyl       int64\n",
      "disp    float64\n",
      "hp        int64\n",
      "drat    float64\n",
      "wt      float64\n",
      "qsec    float64\n",
      "vs        int64\n",
      "am        int64\n",
      "gear      int64\n",
      "carb      int64\n",
      "dtype: object\n"
     ]
    }
   ],
   "source": [
    "print(df.columns) #names of col\n",
    "print(df.shape)  #rows and columns\n",
    "print(df.describe())  #describe\n",
    "print(df.dtypes)"
   ]
  },
  {
   "cell_type": "code",
   "execution_count": 16,
   "id": "1e2fbfba",
   "metadata": {},
   "outputs": [
    {
     "data": {
      "text/html": [
       "<div>\n",
       "<style scoped>\n",
       "    .dataframe tbody tr th:only-of-type {\n",
       "        vertical-align: middle;\n",
       "    }\n",
       "\n",
       "    .dataframe tbody tr th {\n",
       "        vertical-align: top;\n",
       "    }\n",
       "\n",
       "    .dataframe thead th {\n",
       "        text-align: right;\n",
       "    }\n",
       "</style>\n",
       "<table border=\"1\" class=\"dataframe\">\n",
       "  <thead>\n",
       "    <tr style=\"text-align: right;\">\n",
       "      <th></th>\n",
       "      <th>mpg</th>\n",
       "      <th>wt</th>\n",
       "      <th>hp</th>\n",
       "    </tr>\n",
       "  </thead>\n",
       "  <tbody>\n",
       "    <tr>\n",
       "      <th>Mazda RX4</th>\n",
       "      <td>21.0</td>\n",
       "      <td>2.620</td>\n",
       "      <td>110</td>\n",
       "    </tr>\n",
       "    <tr>\n",
       "      <th>Mazda RX4 Wag</th>\n",
       "      <td>21.0</td>\n",
       "      <td>2.875</td>\n",
       "      <td>110</td>\n",
       "    </tr>\n",
       "    <tr>\n",
       "      <th>Datsun 710</th>\n",
       "      <td>22.8</td>\n",
       "      <td>2.320</td>\n",
       "      <td>93</td>\n",
       "    </tr>\n",
       "  </tbody>\n",
       "</table>\n",
       "</div>"
      ],
      "text/plain": [
       "                mpg     wt   hp\n",
       "Mazda RX4      21.0  2.620  110\n",
       "Mazda RX4 Wag  21.0  2.875  110\n",
       "Datsun 710     22.8  2.320   93"
      ]
     },
     "execution_count": 16,
     "metadata": {},
     "output_type": "execute_result"
    }
   ],
   "source": [
    "df1 = df[['mpg','wt','hp']]\n",
    "df1.head(3)"
   ]
  },
  {
   "cell_type": "markdown",
   "id": "7ef4b75a",
   "metadata": {},
   "source": [
    "Another way to split data into X, y\n",
    "\n",
    "X, y = df[['wt', 'hp']], df.mpg"
   ]
  },
  {
   "cell_type": "code",
   "execution_count": 18,
   "id": "1b963df2",
   "metadata": {},
   "outputs": [
    {
     "name": "stdout",
     "output_type": "stream",
     "text": [
      "                  wt   hp\n",
      "Mazda RX4      2.620  110\n",
      "Mazda RX4 Wag  2.875  110\n",
      "Datsun 710     2.320   93 \n",
      " Mazda RX4        21.0\n",
      "Mazda RX4 Wag    21.0\n",
      "Datsun 710       22.8\n",
      "Name: mpg, dtype: float64\n"
     ]
    }
   ],
   "source": [
    "#IV and DVs\n",
    "X = df1[['wt','hp']]  #IV\n",
    "y = df1['mpg'] #DV\n",
    "print(X.head(3), '\\n', y.head(3))"
   ]
  },
  {
   "cell_type": "code",
   "execution_count": 19,
   "id": "61bf24a4",
   "metadata": {},
   "outputs": [
    {
     "data": {
      "text/plain": [
       "LinearRegression()"
      ]
     },
     "execution_count": 19,
     "metadata": {},
     "output_type": "execute_result"
    }
   ],
   "source": [
    "# Predict mpg on basis of wt & hp\n",
    "lm1 = lm.LinearRegression()\n",
    "lm1.fit(X,y)\n",
    "# y = c + m1* x1 + m2 * x2"
   ]
  },
  {
   "cell_type": "code",
   "execution_count": null,
   "id": "59b8a05b",
   "metadata": {},
   "outputs": [],
   "source": [
    "# see output functions\n",
    "#lm1. press tab button"
   ]
  },
  {
   "cell_type": "code",
   "execution_count": 20,
   "id": "c45eba51",
   "metadata": {},
   "outputs": [
    {
     "data": {
      "text/plain": [
       "0.8267854518827915"
      ]
     },
     "execution_count": 20,
     "metadata": {},
     "output_type": "execute_result"
    }
   ],
   "source": [
    "# R2 value - coefficient of determination\n",
    "lm1.score(X,y)\n",
    "#82.67% of the variation in the response variable(y, mpg) can be explained by the two predictor variables(x, wt & hp)\n",
    "# in the model. ie mpg can be predicted upto 82% on the basis of wt & hp"
   ]
  },
  {
   "cell_type": "code",
   "execution_count": 21,
   "id": "54b082c7",
   "metadata": {},
   "outputs": [
    {
     "data": {
      "text/plain": [
       "array([-3.87783074, -0.03177295])"
      ]
     },
     "execution_count": 21,
     "metadata": {},
     "output_type": "execute_result"
    }
   ],
   "source": [
    "# Coeficients = no of IVs\n",
    "lm1.coef_\n",
    "#wt, hp"
   ]
  },
  {
   "cell_type": "code",
   "execution_count": 22,
   "id": "5dca4bef",
   "metadata": {},
   "outputs": [
    {
     "data": {
      "text/plain": [
       "37.22727011644721"
      ]
     },
     "execution_count": 22,
     "metadata": {},
     "output_type": "execute_result"
    }
   ],
   "source": [
    "# Intercept\n",
    "lm1.intercept_"
   ]
  },
  {
   "cell_type": "code",
   "execution_count": 28,
   "id": "e53e7cc7",
   "metadata": {},
   "outputs": [
    {
     "name": "stdout",
     "output_type": "stream",
     "text": [
      "mpg     33.900\n",
      "wt       5.424\n",
      "hp     335.000\n",
      "dtype: float64 mpg    10.400\n",
      "wt      1.513\n",
      "hp     52.000\n",
      "dtype: float64\n"
     ]
    }
   ],
   "source": [
    "print(df1.max(axis=0), df1.min(axis=0))"
   ]
  },
  {
   "cell_type": "code",
   "execution_count": 30,
   "id": "a3402e50",
   "metadata": {},
   "outputs": [
    {
     "name": "stdout",
     "output_type": "stream",
     "text": [
      "            mpg    wt   hp\n",
      "Mazda RX4  21.0  2.62  110\n",
      "                  wt   hp\n",
      "Mazda RX4      2.620  110\n",
      "Mazda RX4 Wag  2.875  110\n",
      "Datsun 710     2.320   93\n",
      "             wt   hp\n",
      "Mazda RX4  2.62  110\n",
      "Mazda RX4    21.0\n",
      "Name: mpg, dtype: float64\n"
     ]
    }
   ],
   "source": [
    "# few values\n",
    "print(df1.head(1))\n",
    "print(X.head(3))\n",
    "print(X.head(1)) # select this value and put in equation\n",
    "print(y.head(1)) # this is actual mileage for above car"
   ]
  },
  {
   "cell_type": "code",
   "execution_count": 31,
   "id": "4565119d",
   "metadata": {},
   "outputs": [
    {
     "name": "stdout",
     "output_type": "stream",
     "text": [
      "24.08 [23.5723294]\n",
      "\n",
      " Input Values -              wt   hp\n",
      "Mazda RX4  2.62  110 \n",
      " Actual MPG -   Mazda RX4    21.0\n",
      "Name: mpg, dtype: float64 \n",
      " From Formula -  24.08 \n",
      " From Predict Function - [23.5723294]\n",
      "\n",
      " Formula and Predict Function - Almost the same Value\n",
      "\n",
      " Difference Between Actual and Predicted Values - Residuals\n"
     ]
    }
   ],
   "source": [
    "# equation\n",
    "#mpg =  37 + -3.7 * wt + -0.03 * hp\n",
    "mpg1A  = 37 - 3.7 * 2.6 - .03 * 110   # Mazda Rx4\n",
    "mpg1B = lm1.predict(X.head(1))\n",
    "print(mpg1A, mpg1B)\n",
    "print('\\n Input Values -', X.head(1), '\\n Actual MPG -  ', y.head(1), '\\n From Formula - ', mpg1A, '\\n From Predict Function -', mpg1B)\n",
    "print('\\n Formula and Predict Function - Almost the same Value')\n",
    "print('\\n Difference Between Actual and Predicted Values - Residuals')"
   ]
  },
  {
   "cell_type": "code",
   "execution_count": 32,
   "id": "9292ef84",
   "metadata": {},
   "outputs": [
    {
     "data": {
      "text/plain": [
       "array([23.5723294 , 22.58348256, 25.27581872, 21.26502011, 18.32726664,\n",
       "       20.47381631, 15.59904236, 22.88706734, 21.99367331, 19.97945988,\n",
       "       19.97945988, 15.72536854, 17.04383099, 16.84993945, 10.35520459,\n",
       "        9.36273257,  9.19248699, 26.59902798, 29.31238022, 28.04620915,\n",
       "       24.58644148, 18.81136386, 19.14097947, 14.55202805, 16.75674519,\n",
       "       27.62665313, 26.03737415, 27.76976919, 16.54648866, 20.92541324,\n",
       "       12.73947713, 22.98364943])"
      ]
     },
     "execution_count": 32,
     "metadata": {},
     "output_type": "execute_result"
    }
   ],
   "source": [
    "#predict mpg based on linear equation on input values of X\n",
    "lm1.predict(X)"
   ]
  },
  {
   "cell_type": "code",
   "execution_count": 35,
   "id": "4aa419e9",
   "metadata": {},
   "outputs": [
    {
     "name": "stdout",
     "output_type": "stream",
     "text": [
      "32\n"
     ]
    }
   ],
   "source": [
    "print(len(lm1.predict(X)))"
   ]
  },
  {
   "cell_type": "code",
   "execution_count": 36,
   "id": "1e7ed873",
   "metadata": {},
   "outputs": [
    {
     "data": {
      "text/plain": [
       "(32, 3)"
      ]
     },
     "execution_count": 36,
     "metadata": {},
     "output_type": "execute_result"
    }
   ],
   "source": [
    "df1.shape"
   ]
  },
  {
   "cell_type": "code",
   "execution_count": 37,
   "id": "fff180a7",
   "metadata": {},
   "outputs": [
    {
     "data": {
      "text/plain": [
       "(32, 2)"
      ]
     },
     "execution_count": 37,
     "metadata": {},
     "output_type": "execute_result"
    }
   ],
   "source": [
    "X.shape"
   ]
  },
  {
   "cell_type": "code",
   "execution_count": 34,
   "id": "c603b361",
   "metadata": {},
   "outputs": [
    {
     "data": {
      "text/plain": [
       "array([[2.6, 110.0, 21.0, 23.6, -2.6],\n",
       "       [2.9, 110.0, 21.0, 22.6, -1.6],\n",
       "       [2.3, 93.0, 22.8, 25.3, -2.5],\n",
       "       [3.2, 110.0, 21.4, 21.3, 0.1],\n",
       "       [3.4, 175.0, 18.7, 18.3, 0.4],\n",
       "       [3.5, 105.0, 18.1, 20.5, -2.4],\n",
       "       [3.6, 245.0, 14.3, 15.6, -1.3],\n",
       "       [3.2, 62.0, 24.4, 22.9, 1.5],\n",
       "       [3.1, 95.0, 22.8, 22.0, 0.8],\n",
       "       [3.4, 123.0, 19.2, 20.0, -0.8],\n",
       "       [3.4, 123.0, 17.8, 20.0, -2.2],\n",
       "       [4.1, 180.0, 16.4, 15.7, 0.7],\n",
       "       [3.7, 180.0, 17.3, 17.0, 0.3],\n",
       "       [3.8, 180.0, 15.2, 16.9, -1.6],\n",
       "       [5.2, 205.0, 10.4, 10.4, 0.0],\n",
       "       [5.4, 215.0, 10.4, 9.4, 1.0],\n",
       "       [5.3, 230.0, 14.7, 9.2, 5.5],\n",
       "       [2.2, 66.0, 32.4, 26.6, 5.8],\n",
       "       [1.6, 52.0, 30.4, 29.3, 1.1],\n",
       "       [1.8, 65.0, 33.9, 28.1, 5.9],\n",
       "       [2.5, 97.0, 21.5, 24.6, -3.1],\n",
       "       [3.5, 150.0, 15.5, 18.8, -3.3],\n",
       "       [3.4, 150.0, 15.2, 19.1, -3.9],\n",
       "       [3.8, 245.0, 13.3, 14.6, -1.3],\n",
       "       [3.8, 175.0, 19.2, 16.8, 2.4],\n",
       "       [1.9, 66.0, 27.3, 27.6, -0.3],\n",
       "       [2.1, 91.0, 26.0, 26.0, -0.0],\n",
       "       [1.5, 113.0, 30.4, 27.8, 2.6],\n",
       "       [3.2, 264.0, 15.8, 16.6, -0.7],\n",
       "       [2.8, 175.0, 19.7, 20.9, -1.2],\n",
       "       [3.6, 335.0, 15.0, 12.7, 2.3],\n",
       "       [2.8, 109.0, 21.4, 23.0, -1.6]])"
      ]
     },
     "execution_count": 34,
     "metadata": {},
     "output_type": "execute_result"
    }
   ],
   "source": [
    "# see them together\n",
    "np.set_printoptions(formatter={'float': lambda x: \"{0:0.1f}\".format(x)})\n",
    "np.column_stack((X,y, lm1.predict(X).round(2), y-lm1.predict(X)))\n",
    "# wt - hp - mpg - predicedmpg - residuals"
   ]
  },
  {
   "cell_type": "code",
   "execution_count": 51,
   "id": "9b49057f",
   "metadata": {},
   "outputs": [
    {
     "data": {
      "text/plain": [
       "25.0"
      ]
     },
     "execution_count": 51,
     "metadata": {},
     "output_type": "execute_result"
    }
   ],
   "source": [
    "sum(y-lm1.predict(X))\n",
    "#(y-lm1.predict(X))^2\n",
    "from math import pow\n",
    "#int(pow((y - lm1.predict(X)),2))\n",
    "pow(5,2)"
   ]
  },
  {
   "cell_type": "code",
   "execution_count": 38,
   "id": "370f75dd",
   "metadata": {},
   "outputs": [
    {
     "name": "stdout",
     "output_type": "stream",
     "text": [
      "The difference between actual and predicted values 6.0952423356708145 2.47\n"
     ]
    }
   ],
   "source": [
    "# RMS \n",
    "import sklearn.metrics  #RMSE\n",
    "import math\n",
    "mse = sklearn.metrics.mean_squared_error(y, lm1.predict(X)) \n",
    "print(\"The difference between actual and predicted values\", mse, round(math.sqrt(mse),2) )  "
   ]
  },
  {
   "cell_type": "code",
   "execution_count": 40,
   "id": "bc410c72",
   "metadata": {},
   "outputs": [
    {
     "name": "stdout",
     "output_type": "stream",
     "text": [
      "RMSE 6.0952423356708145\n"
     ]
    }
   ],
   "source": [
    "#RMSE\n",
    "from sklearn.metrics import mean_squared_error\n",
    "print('RMSE',  mean_squared_error(y, lm1.predict(X)))"
   ]
  },
  {
   "cell_type": "markdown",
   "id": "0ab83d6e",
   "metadata": {},
   "source": [
    "RMSE is a square root of value gathered from the mean square error function. It helps us plot a difference between the estimate and actual value of a parameter of the model.\n",
    "Using RSME, we can easily measure the efficiency of the model.\n",
    "A well-working algorithm is known if its RSME score of less than 180. If the RSME value surpasses 180, we need to apply feature selection and hyper-parameter tuning on the model parameter."
   ]
  },
  {
   "cell_type": "markdown",
   "id": "cd366a94",
   "metadata": {},
   "source": [
    "### Some Functions still missing\n",
    "scikit-learn doesn’t offer many built-in functions to analyze the summary of a regression model since it’s typically only used for predictive purposes.\n",
    "we still don’t know the overall F-statistic of the model, the p-values of the individual regression coefficients, and other useful metrics that can help us understand how well the model fits the dataset."
   ]
  },
  {
   "cell_type": "markdown",
   "id": "ff250c25",
   "metadata": {},
   "source": [
    "## Stats Model"
   ]
  },
  {
   "cell_type": "code",
   "execution_count": 52,
   "id": "b734fa2f",
   "metadata": {},
   "outputs": [],
   "source": [
    "import statsmodels.api as sm"
   ]
  },
  {
   "cell_type": "code",
   "execution_count": 53,
   "id": "774e8c8f",
   "metadata": {},
   "outputs": [
    {
     "name": "stdout",
     "output_type": "stream",
     "text": [
      "                      wt   hp\n",
      "Mazda RX4          2.620  110\n",
      "Mazda RX4 Wag      2.875  110\n",
      "Datsun 710         2.320   93\n",
      "Hornet 4 Drive     3.215  110\n",
      "Hornet Sportabout  3.440  175 \n",
      " Mazda RX4            21.0\n",
      "Mazda RX4 Wag        21.0\n",
      "Datsun 710           22.8\n",
      "Hornet 4 Drive       21.4\n",
      "Hornet Sportabout    18.7\n",
      "Name: mpg, dtype: float64\n"
     ]
    }
   ],
   "source": [
    "#define response variable\n",
    "y = df['mpg']\n",
    "\n",
    "#define predictor variables\n",
    "x = df[['wt', 'hp']]\n",
    "print(x.head(), '\\n', y.head())"
   ]
  },
  {
   "cell_type": "code",
   "execution_count": 54,
   "id": "047d5d69",
   "metadata": {},
   "outputs": [
    {
     "data": {
      "text/html": [
       "<div>\n",
       "<style scoped>\n",
       "    .dataframe tbody tr th:only-of-type {\n",
       "        vertical-align: middle;\n",
       "    }\n",
       "\n",
       "    .dataframe tbody tr th {\n",
       "        vertical-align: top;\n",
       "    }\n",
       "\n",
       "    .dataframe thead th {\n",
       "        text-align: right;\n",
       "    }\n",
       "</style>\n",
       "<table border=\"1\" class=\"dataframe\">\n",
       "  <thead>\n",
       "    <tr style=\"text-align: right;\">\n",
       "      <th></th>\n",
       "      <th>wt</th>\n",
       "      <th>hp</th>\n",
       "      <th>mpg</th>\n",
       "    </tr>\n",
       "  </thead>\n",
       "  <tbody>\n",
       "    <tr>\n",
       "      <th>Mazda RX4</th>\n",
       "      <td>2.620</td>\n",
       "      <td>110</td>\n",
       "      <td>21.0</td>\n",
       "    </tr>\n",
       "    <tr>\n",
       "      <th>Mazda RX4 Wag</th>\n",
       "      <td>2.875</td>\n",
       "      <td>110</td>\n",
       "      <td>21.0</td>\n",
       "    </tr>\n",
       "    <tr>\n",
       "      <th>Datsun 710</th>\n",
       "      <td>2.320</td>\n",
       "      <td>93</td>\n",
       "      <td>22.8</td>\n",
       "    </tr>\n",
       "    <tr>\n",
       "      <th>Hornet 4 Drive</th>\n",
       "      <td>3.215</td>\n",
       "      <td>110</td>\n",
       "      <td>21.4</td>\n",
       "    </tr>\n",
       "    <tr>\n",
       "      <th>Hornet Sportabout</th>\n",
       "      <td>3.440</td>\n",
       "      <td>175</td>\n",
       "      <td>18.7</td>\n",
       "    </tr>\n",
       "  </tbody>\n",
       "</table>\n",
       "</div>"
      ],
      "text/plain": [
       "                      wt   hp   mpg\n",
       "Mazda RX4          2.620  110  21.0\n",
       "Mazda RX4 Wag      2.875  110  21.0\n",
       "Datsun 710         2.320   93  22.8\n",
       "Hornet 4 Drive     3.215  110  21.4\n",
       "Hornet Sportabout  3.440  175  18.7"
      ]
     },
     "execution_count": 54,
     "metadata": {},
     "output_type": "execute_result"
    }
   ],
   "source": [
    "#another way to show 2 dataframe in column way\n",
    "pd.concat([x.head(), y.head()], axis=1)"
   ]
  },
  {
   "cell_type": "code",
   "execution_count": 57,
   "id": "cbd1eeff",
   "metadata": {},
   "outputs": [],
   "source": [
    "#add constant to predictor variables\n",
    "x = sm.add_constant(x)\n",
    "#fit linear regression model\n",
    "lm2 = sm.OLS(y, x).fit()"
   ]
  },
  {
   "cell_type": "code",
   "execution_count": 56,
   "id": "2a866f6c",
   "metadata": {},
   "outputs": [
    {
     "data": {
      "text/html": [
       "<div>\n",
       "<style scoped>\n",
       "    .dataframe tbody tr th:only-of-type {\n",
       "        vertical-align: middle;\n",
       "    }\n",
       "\n",
       "    .dataframe tbody tr th {\n",
       "        vertical-align: top;\n",
       "    }\n",
       "\n",
       "    .dataframe thead th {\n",
       "        text-align: right;\n",
       "    }\n",
       "</style>\n",
       "<table border=\"1\" class=\"dataframe\">\n",
       "  <thead>\n",
       "    <tr style=\"text-align: right;\">\n",
       "      <th></th>\n",
       "      <th>const</th>\n",
       "      <th>wt</th>\n",
       "      <th>hp</th>\n",
       "    </tr>\n",
       "  </thead>\n",
       "  <tbody>\n",
       "    <tr>\n",
       "      <th>Mazda RX4</th>\n",
       "      <td>1.0</td>\n",
       "      <td>2.620</td>\n",
       "      <td>110</td>\n",
       "    </tr>\n",
       "    <tr>\n",
       "      <th>Mazda RX4 Wag</th>\n",
       "      <td>1.0</td>\n",
       "      <td>2.875</td>\n",
       "      <td>110</td>\n",
       "    </tr>\n",
       "    <tr>\n",
       "      <th>Datsun 710</th>\n",
       "      <td>1.0</td>\n",
       "      <td>2.320</td>\n",
       "      <td>93</td>\n",
       "    </tr>\n",
       "    <tr>\n",
       "      <th>Hornet 4 Drive</th>\n",
       "      <td>1.0</td>\n",
       "      <td>3.215</td>\n",
       "      <td>110</td>\n",
       "    </tr>\n",
       "    <tr>\n",
       "      <th>Hornet Sportabout</th>\n",
       "      <td>1.0</td>\n",
       "      <td>3.440</td>\n",
       "      <td>175</td>\n",
       "    </tr>\n",
       "  </tbody>\n",
       "</table>\n",
       "</div>"
      ],
      "text/plain": [
       "                   const     wt   hp\n",
       "Mazda RX4            1.0  2.620  110\n",
       "Mazda RX4 Wag        1.0  2.875  110\n",
       "Datsun 710           1.0  2.320   93\n",
       "Hornet 4 Drive       1.0  3.215  110\n",
       "Hornet Sportabout    1.0  3.440  175"
      ]
     },
     "execution_count": 56,
     "metadata": {},
     "output_type": "execute_result"
    }
   ],
   "source": [
    "x.head()"
   ]
  },
  {
   "cell_type": "code",
   "execution_count": 58,
   "id": "888e7401",
   "metadata": {},
   "outputs": [
    {
     "name": "stdout",
     "output_type": "stream",
     "text": [
      "                            OLS Regression Results                            \n",
      "==============================================================================\n",
      "Dep. Variable:                    mpg   R-squared:                       0.827\n",
      "Model:                            OLS   Adj. R-squared:                  0.815\n",
      "Method:                 Least Squares   F-statistic:                     69.21\n",
      "Date:                Sat, 25 Feb 2023   Prob (F-statistic):           9.11e-12\n",
      "Time:                        22:52:06   Log-Likelihood:                -74.326\n",
      "No. Observations:                  32   AIC:                             154.7\n",
      "Df Residuals:                      29   BIC:                             159.0\n",
      "Df Model:                           2                                         \n",
      "Covariance Type:            nonrobust                                         \n",
      "==============================================================================\n",
      "                 coef    std err          t      P>|t|      [0.025      0.975]\n",
      "------------------------------------------------------------------------------\n",
      "const         37.2273      1.599     23.285      0.000      33.957      40.497\n",
      "wt            -3.8778      0.633     -6.129      0.000      -5.172      -2.584\n",
      "hp            -0.0318      0.009     -3.519      0.001      -0.050      -0.013\n",
      "==============================================================================\n",
      "Omnibus:                        5.303   Durbin-Watson:                   1.362\n",
      "Prob(Omnibus):                  0.071   Jarque-Bera (JB):                4.046\n",
      "Skew:                           0.855   Prob(JB):                        0.132\n",
      "Kurtosis:                       3.332   Cond. No.                         588.\n",
      "==============================================================================\n",
      "\n",
      "Notes:\n",
      "[1] Standard Errors assume that the covariance matrix of the errors is correctly specified.\n"
     ]
    }
   ],
   "source": [
    "#view model summary - Very important output\n",
    "print(lm2.summary())"
   ]
  },
  {
   "cell_type": "markdown",
   "id": "fbefaef1",
   "metadata": {},
   "source": [
    "#### Output Summary\n",
    "p-values for each individual predictor variable:\n",
    "wt - .000  < .005 : Significant\n",
    "hp - .001  < .005 : Significant\n",
    "Overall F Statistics\n",
    "p value - 9.11e-12 < .005  : Model Exist, at least 1 IV predicts DV to some extend\n",
    "\n",
    "AIC Value\n",
    "154  : Lower the value better is the model when model comparison is done\n",
    "\n",
    "R2\n",
    "Adj R2 = .815   : for Multiple Regression"
   ]
  },
  {
   "cell_type": "code",
   "execution_count": 59,
   "id": "ec83c497",
   "metadata": {},
   "outputs": [
    {
     "data": {
      "text/plain": [
       "Mazda RX4           -2.572329\n",
       "Mazda RX4 Wag       -1.583483\n",
       "Datsun 710          -2.475819\n",
       "Hornet 4 Drive       0.134980\n",
       "Hornet Sportabout    0.372733\n",
       "dtype: float64"
      ]
     },
     "execution_count": 59,
     "metadata": {},
     "output_type": "execute_result"
    }
   ],
   "source": [
    "# Residuals : Predict - Actual (DV)\n",
    "lm2.resid.head()"
   ]
  },
  {
   "cell_type": "code",
   "execution_count": 60,
   "id": "bd8ef80c",
   "metadata": {},
   "outputs": [
    {
     "name": "stdout",
     "output_type": "stream",
     "text": [
      "                    mpg     wt     hp\n",
      "Mazda RX4          21.0  2.620  110.0\n",
      "Mazda RX4 Wag      21.0  2.875  110.0\n",
      "Datsun 710         22.8  2.320   93.0\n",
      "Hornet 4 Drive     21.4  3.215  110.0\n",
      "Hornet Sportabout  18.7  3.440  175.0\n"
     ]
    },
    {
     "name": "stderr",
     "output_type": "stream",
     "text": [
      "C:\\Users\\Hirak\\AppData\\Local\\Temp\\ipykernel_11480\\2403021284.py:7: SettingWithCopyWarning: \n",
      "A value is trying to be set on a copy of a slice from a DataFrame\n",
      "\n",
      "See the caveats in the documentation: https://pandas.pydata.org/pandas-docs/stable/user_guide/indexing.html#returning-a-view-versus-a-copy\n",
      "  df1.loc[\"predicted\"] = lm2.predict(x)\n",
      "C:\\Users\\Hirak\\AppData\\Local\\Temp\\ipykernel_11480\\2403021284.py:8: SettingWithCopyWarning: \n",
      "A value is trying to be set on a copy of a slice from a DataFrame\n",
      "\n",
      "See the caveats in the documentation: https://pandas.pydata.org/pandas-docs/stable/user_guide/indexing.html#returning-a-view-versus-a-copy\n",
      "  df1.loc[\"residuals\"] = lm2.resid\n"
     ]
    }
   ],
   "source": [
    "#pip install bioinfokit\n",
    "#from bioinfokit import visuz\n",
    "import seaborn as sns\n",
    "import matplotlib.pyplot as plt\n",
    "\n",
    "# create a DataFrame of predicted values and residuals\n",
    "df1.loc[\"predicted\"] = lm2.predict(x)\n",
    "df1.loc[\"residuals\"] = lm2.resid\n",
    "print(df1.head())"
   ]
  },
  {
   "cell_type": "code",
   "execution_count": 62,
   "id": "85035422",
   "metadata": {},
   "outputs": [],
   "source": [
    "#sns.scatterplot(data=df1, x=\"predicted\", y=\"residuals\")\n",
    "#plt.axhline(y=0)"
   ]
  },
  {
   "cell_type": "code",
   "execution_count": null,
   "id": "6e6372ae",
   "metadata": {},
   "outputs": [],
   "source": [
    "### Some Terms\n",
    "Best Fit - The straight line in a plot that minimizes the divergence between related dispersed data points\n",
    "Coefficient - Also known as a parameter, is the factor that is multiplied by a variable. A coefficient in linear regression represents changes in a Response Variable \n",
    "Coefficient of Determination - It is the correlation coefficient. In a regression, this term is used to define the precision or degree of fit\n",
    "Correlation - the measurable intensity and degree of association between two variables, often known as the 'degree of correlation.' The values range from -1.0 to 1.0\n",
    "Dependent Feature - A variable represented as y in the slope equation y=ax+b. Also referred to as an Output or a Response\n",
    "Estimated Regression Line - the straight line that best fits a set of randomly distributed data points\n",
    "Independent Feature - a variable represented by the letter x in the slope equation y=ax+b. Also referred to as an Input or a predictor\n",
    "Intercept - It is the point at where the slope intersects the Y-axis, indicated by the letter b in the slope equation y=ax+b\n",
    "Least Squares - a method for calculating the best fit to data by minimizing the sum of the squares of the discrepancies between observed and estimated values\n",
    "Mean - an average of a group of numbers; nevertheless, in linear regression, Mean is represented by a linear function\n",
    "OLS (Ordinary Least Squares Regression) - sometimes known as Linear Regression.\n",
    "Residual - the vertical distance between a data point and the regression line\n",
    "Regression - is an assessment of a variable's predicted change in relation to changes in other variables\n",
    "Regression Model - The optimum formula for approximating a regression \n",
    "Response Variables - This category covers both the Predicted Response (the value predicted by the regression) and the Actual Response (the actual value of the data point) \n",
    "Slope - the steepness of a regression line. The linear relationship between two variables may be defined using slope and intercept: y=ax+b\n",
    "Simple linear regression - A linear regression with a single independent variable"
   ]
  },
  {
   "cell_type": "code",
   "execution_count": 64,
   "id": "30fd575f",
   "metadata": {},
   "outputs": [],
   "source": [
    "# Train and split data\n",
    "from sklearn.model_selection import train_test_split"
   ]
  },
  {
   "cell_type": "code",
   "execution_count": 65,
   "id": "d907434b",
   "metadata": {},
   "outputs": [
    {
     "name": "stdout",
     "output_type": "stream",
     "text": [
      "Train Set  (24, 3)\n",
      "Test Set  (8, 3)\n"
     ]
    }
   ],
   "source": [
    "X_train, X_test, y_train, y_test = train_test_split(X, y, test_size = 0.25)\n",
    "print('Train Set ', pd.concat([X_train, y_train], axis=1).shape)\n",
    "print('Test Set ', pd.concat([X_test, y_test], axis=1).shape)"
   ]
  },
  {
   "cell_type": "code",
   "execution_count": null,
   "id": "6b10b8c8",
   "metadata": {},
   "outputs": [],
   "source": [
    "lm.fit(X_train, y_train)"
   ]
  }
 ],
 "metadata": {
  "kernelspec": {
   "display_name": "Python 3 (ipykernel)",
   "language": "python",
   "name": "python3"
  },
  "language_info": {
   "codemirror_mode": {
    "name": "ipython",
    "version": 3
   },
   "file_extension": ".py",
   "mimetype": "text/x-python",
   "name": "python",
   "nbconvert_exporter": "python",
   "pygments_lexer": "ipython3",
   "version": "3.9.13"
  }
 },
 "nbformat": 4,
 "nbformat_minor": 5
}
